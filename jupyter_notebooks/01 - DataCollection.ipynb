{
 "cells": [
  {
   "cell_type": "markdown",
   "metadata": {},
   "source": [
    "# ** Mildew Detection in leaves **"
   ]
  },
  {
   "cell_type": "markdown",
   "metadata": {},
   "source": [
    "## Objectives\n",
    "\n",
    "* Import packages\n",
    "\n",
    "* Set working directory\n",
    "\n",
    "* Fetch data from Kaggle and prepare it for further processing.\n",
    "\n",
    "* Clean data\n",
    "\n",
    "* Split data\n",
    "\n",
    "\n",
    "## Inputs\n",
    "\n",
    "* Kaggle JSON file - authentication token\n",
    "\n",
    "## Outputs\n",
    "\n",
    "Generate Dataset - inputs/cherryleaves_dataset\n",
    "\n",
    "\n",
    "## Additional Comments\n",
    "\n",
    "* These steps are necessary to fetch the data, clean it and divide it in subsets for the purposes of machine learning. Next step will be Data Visualization to understand the data and discover patterns.\n"
   ]
  },
  {
   "cell_type": "markdown",
   "metadata": {},
   "source": [
    "---"
   ]
  },
  {
   "cell_type": "markdown",
   "metadata": {},
   "source": [
    "## Import Package\n"
   ]
  },
  {
   "cell_type": "code",
   "execution_count": 2,
   "metadata": {},
   "outputs": [
    {
     "name": "stdout",
     "output_type": "stream",
     "text": [
      "Requirement already satisfied: numpy==1.19.2 in /workspace/.pyenv_mirror/fakeroot/versions/3.8.18/lib/python3.8/site-packages (from -r /workspace/mildew-detector/requirements.txt (line 1)) (1.19.2)\n",
      "Requirement already satisfied: pandas==1.1.2 in /workspace/.pyenv_mirror/fakeroot/versions/3.8.18/lib/python3.8/site-packages (from -r /workspace/mildew-detector/requirements.txt (line 2)) (1.1.2)\n",
      "Requirement already satisfied: matplotlib==3.3.1 in /workspace/.pyenv_mirror/fakeroot/versions/3.8.18/lib/python3.8/site-packages (from -r /workspace/mildew-detector/requirements.txt (line 3)) (3.3.1)\n",
      "Requirement already satisfied: seaborn==0.11.0 in /workspace/.pyenv_mirror/fakeroot/versions/3.8.18/lib/python3.8/site-packages (from -r /workspace/mildew-detector/requirements.txt (line 4)) (0.11.0)\n",
      "Requirement already satisfied: plotly==4.12.0 in /workspace/.pyenv_mirror/fakeroot/versions/3.8.18/lib/python3.8/site-packages (from -r /workspace/mildew-detector/requirements.txt (line 5)) (4.12.0)\n",
      "Requirement already satisfied: streamlit==0.85.0 in /workspace/.pyenv_mirror/fakeroot/versions/3.8.18/lib/python3.8/site-packages (from -r /workspace/mildew-detector/requirements.txt (line 7)) (0.85.0)\n",
      "Requirement already satisfied: scikit-learn==0.24.2 in /workspace/.pyenv_mirror/fakeroot/versions/3.8.18/lib/python3.8/site-packages (from -r /workspace/mildew-detector/requirements.txt (line 9)) (0.24.2)\n",
      "Requirement already satisfied: tensorflow-cpu==2.6.0 in /workspace/.pyenv_mirror/fakeroot/versions/3.8.18/lib/python3.8/site-packages (from -r /workspace/mildew-detector/requirements.txt (line 10)) (2.6.0)\n",
      "Requirement already satisfied: keras==2.6.0 in /workspace/.pyenv_mirror/fakeroot/versions/3.8.18/lib/python3.8/site-packages (from -r /workspace/mildew-detector/requirements.txt (line 11)) (2.6.0)\n",
      "Requirement already satisfied: protobuf==3.20 in /workspace/.pyenv_mirror/fakeroot/versions/3.8.18/lib/python3.8/site-packages (from -r /workspace/mildew-detector/requirements.txt (line 12)) (3.20.0)\n",
      "Requirement already satisfied: altair<5 in /workspace/.pyenv_mirror/fakeroot/versions/3.8.18/lib/python3.8/site-packages (from -r /workspace/mildew-detector/requirements.txt (line 13)) (4.2.2)\n",
      "Requirement already satisfied: python-dateutil>=2.7.3 in /workspace/.pyenv_mirror/fakeroot/versions/3.8.18/lib/python3.8/site-packages (from pandas==1.1.2->-r /workspace/mildew-detector/requirements.txt (line 2)) (2.9.0.post0)\n",
      "Requirement already satisfied: pytz>=2017.2 in /workspace/.pyenv_mirror/fakeroot/versions/3.8.18/lib/python3.8/site-packages (from pandas==1.1.2->-r /workspace/mildew-detector/requirements.txt (line 2)) (2024.1)\n",
      "Requirement already satisfied: pillow>=6.2.0 in /workspace/.pyenv_mirror/fakeroot/versions/3.8.18/lib/python3.8/site-packages (from matplotlib==3.3.1->-r /workspace/mildew-detector/requirements.txt (line 3)) (10.2.0)\n",
      "Requirement already satisfied: cycler>=0.10 in /workspace/.pyenv_mirror/fakeroot/versions/3.8.18/lib/python3.8/site-packages (from matplotlib==3.3.1->-r /workspace/mildew-detector/requirements.txt (line 3)) (0.12.1)\n",
      "Requirement already satisfied: kiwisolver>=1.0.1 in /workspace/.pyenv_mirror/fakeroot/versions/3.8.18/lib/python3.8/site-packages (from matplotlib==3.3.1->-r /workspace/mildew-detector/requirements.txt (line 3)) (1.4.5)\n",
      "Requirement already satisfied: certifi>=2020.06.20 in /workspace/.pyenv_mirror/fakeroot/versions/3.8.18/lib/python3.8/site-packages (from matplotlib==3.3.1->-r /workspace/mildew-detector/requirements.txt (line 3)) (2024.2.2)\n",
      "Requirement already satisfied: pyparsing!=2.0.4,!=2.1.2,!=2.1.6,>=2.0.3 in /workspace/.pyenv_mirror/fakeroot/versions/3.8.18/lib/python3.8/site-packages (from matplotlib==3.3.1->-r /workspace/mildew-detector/requirements.txt (line 3)) (3.1.2)\n",
      "Requirement already satisfied: scipy>=1.0 in /workspace/.pyenv_mirror/fakeroot/versions/3.8.18/lib/python3.8/site-packages (from seaborn==0.11.0->-r /workspace/mildew-detector/requirements.txt (line 4)) (1.9.3)\n",
      "Requirement already satisfied: retrying>=1.3.3 in /workspace/.pyenv_mirror/fakeroot/versions/3.8.18/lib/python3.8/site-packages (from plotly==4.12.0->-r /workspace/mildew-detector/requirements.txt (line 5)) (1.3.4)\n",
      "Requirement already satisfied: six in /workspace/.pyenv_mirror/fakeroot/versions/3.8.18/lib/python3.8/site-packages (from plotly==4.12.0->-r /workspace/mildew-detector/requirements.txt (line 5)) (1.15.0)\n",
      "Requirement already satisfied: toml in /workspace/.pyenv_mirror/fakeroot/versions/3.8.18/lib/python3.8/site-packages (from streamlit==0.85.0->-r /workspace/mildew-detector/requirements.txt (line 7)) (0.10.2)\n",
      "Requirement already satisfied: validators in /workspace/.pyenv_mirror/fakeroot/versions/3.8.18/lib/python3.8/site-packages (from streamlit==0.85.0->-r /workspace/mildew-detector/requirements.txt (line 7)) (0.24.0)\n",
      "Requirement already satisfied: attrs in /workspace/.pyenv_mirror/fakeroot/versions/3.8.18/lib/python3.8/site-packages (from streamlit==0.85.0->-r /workspace/mildew-detector/requirements.txt (line 7)) (23.2.0)\n",
      "Requirement already satisfied: astor in /workspace/.pyenv_mirror/fakeroot/versions/3.8.18/lib/python3.8/site-packages (from streamlit==0.85.0->-r /workspace/mildew-detector/requirements.txt (line 7)) (0.8.1)\n",
      "Requirement already satisfied: packaging in /workspace/.pyenv_mirror/fakeroot/versions/3.8.18/lib/python3.8/site-packages (from streamlit==0.85.0->-r /workspace/mildew-detector/requirements.txt (line 7)) (24.0)\n",
      "Requirement already satisfied: tzlocal in /workspace/.pyenv_mirror/fakeroot/versions/3.8.18/lib/python3.8/site-packages (from streamlit==0.85.0->-r /workspace/mildew-detector/requirements.txt (line 7)) (5.2)\n",
      "Requirement already satisfied: requests in /workspace/.pyenv_mirror/fakeroot/versions/3.8.18/lib/python3.8/site-packages (from streamlit==0.85.0->-r /workspace/mildew-detector/requirements.txt (line 7)) (2.31.0)\n",
      "Requirement already satisfied: pyarrow in /workspace/.pyenv_mirror/fakeroot/versions/3.8.18/lib/python3.8/site-packages (from streamlit==0.85.0->-r /workspace/mildew-detector/requirements.txt (line 7)) (15.0.2)\n",
      "Requirement already satisfied: tornado>=5.0 in /workspace/.pyenv_mirror/fakeroot/versions/3.8.18/lib/python3.8/site-packages (from streamlit==0.85.0->-r /workspace/mildew-detector/requirements.txt (line 7)) (6.4)\n",
      "Requirement already satisfied: pydeck>=0.1.dev5 in /workspace/.pyenv_mirror/fakeroot/versions/3.8.18/lib/python3.8/site-packages (from streamlit==0.85.0->-r /workspace/mildew-detector/requirements.txt (line 7)) (0.8.1b0)\n",
      "Requirement already satisfied: gitpython in /workspace/.pyenv_mirror/fakeroot/versions/3.8.18/lib/python3.8/site-packages (from streamlit==0.85.0->-r /workspace/mildew-detector/requirements.txt (line 7)) (3.1.42)\n",
      "Requirement already satisfied: click<8.0,>=7.0 in /workspace/.pyenv_mirror/fakeroot/versions/3.8.18/lib/python3.8/site-packages (from streamlit==0.85.0->-r /workspace/mildew-detector/requirements.txt (line 7)) (7.1.2)\n",
      "Requirement already satisfied: base58 in /workspace/.pyenv_mirror/fakeroot/versions/3.8.18/lib/python3.8/site-packages (from streamlit==0.85.0->-r /workspace/mildew-detector/requirements.txt (line 7)) (2.1.1)\n",
      "Requirement already satisfied: blinker in /workspace/.pyenv_mirror/fakeroot/versions/3.8.18/lib/python3.8/site-packages (from streamlit==0.85.0->-r /workspace/mildew-detector/requirements.txt (line 7)) (1.7.0)\n",
      "Requirement already satisfied: cachetools>=4.0 in /workspace/.pyenv_mirror/fakeroot/versions/3.8.18/lib/python3.8/site-packages (from streamlit==0.85.0->-r /workspace/mildew-detector/requirements.txt (line 7)) (5.3.3)\n",
      "Requirement already satisfied: watchdog in /workspace/.pyenv_mirror/fakeroot/versions/3.8.18/lib/python3.8/site-packages (from streamlit==0.85.0->-r /workspace/mildew-detector/requirements.txt (line 7)) (4.0.0)\n",
      "Requirement already satisfied: threadpoolctl>=2.0.0 in /workspace/.pyenv_mirror/fakeroot/versions/3.8.18/lib/python3.8/site-packages (from scikit-learn==0.24.2->-r /workspace/mildew-detector/requirements.txt (line 9)) (3.4.0)\n",
      "Requirement already satisfied: joblib>=0.11 in /workspace/.pyenv_mirror/fakeroot/versions/3.8.18/lib/python3.8/site-packages (from scikit-learn==0.24.2->-r /workspace/mildew-detector/requirements.txt (line 9)) (1.3.2)\n",
      "Requirement already satisfied: absl-py~=0.10 in /workspace/.pyenv_mirror/fakeroot/versions/3.8.18/lib/python3.8/site-packages (from tensorflow-cpu==2.6.0->-r /workspace/mildew-detector/requirements.txt (line 10)) (0.15.0)\n",
      "Requirement already satisfied: astunparse~=1.6.3 in /workspace/.pyenv_mirror/fakeroot/versions/3.8.18/lib/python3.8/site-packages (from tensorflow-cpu==2.6.0->-r /workspace/mildew-detector/requirements.txt (line 10)) (1.6.3)\n",
      "Requirement already satisfied: gast==0.4.0 in /workspace/.pyenv_mirror/fakeroot/versions/3.8.18/lib/python3.8/site-packages (from tensorflow-cpu==2.6.0->-r /workspace/mildew-detector/requirements.txt (line 10)) (0.4.0)\n",
      "Requirement already satisfied: grpcio<2.0,>=1.37.0 in /workspace/.pyenv_mirror/fakeroot/versions/3.8.18/lib/python3.8/site-packages (from tensorflow-cpu==2.6.0->-r /workspace/mildew-detector/requirements.txt (line 10)) (1.62.1)\n",
      "Requirement already satisfied: clang~=5.0 in /workspace/.pyenv_mirror/fakeroot/versions/3.8.18/lib/python3.8/site-packages (from tensorflow-cpu==2.6.0->-r /workspace/mildew-detector/requirements.txt (line 10)) (5.0)\n",
      "Requirement already satisfied: typing-extensions~=3.7.4 in /workspace/.pyenv_mirror/fakeroot/versions/3.8.18/lib/python3.8/site-packages (from tensorflow-cpu==2.6.0->-r /workspace/mildew-detector/requirements.txt (line 10)) (3.7.4.3)\n",
      "Requirement already satisfied: termcolor~=1.1.0 in /workspace/.pyenv_mirror/fakeroot/versions/3.8.18/lib/python3.8/site-packages (from tensorflow-cpu==2.6.0->-r /workspace/mildew-detector/requirements.txt (line 10)) (1.1.0)\n",
      "Requirement already satisfied: tensorflow-estimator~=2.6 in /workspace/.pyenv_mirror/fakeroot/versions/3.8.18/lib/python3.8/site-packages (from tensorflow-cpu==2.6.0->-r /workspace/mildew-detector/requirements.txt (line 10)) (2.15.0)\n",
      "Requirement already satisfied: h5py~=3.1.0 in /workspace/.pyenv_mirror/fakeroot/versions/3.8.18/lib/python3.8/site-packages (from tensorflow-cpu==2.6.0->-r /workspace/mildew-detector/requirements.txt (line 10)) (3.1.0)\n",
      "Requirement already satisfied: wheel~=0.35 in /workspace/.pyenv_mirror/fakeroot/versions/3.8.18/lib/python3.8/site-packages (from tensorflow-cpu==2.6.0->-r /workspace/mildew-detector/requirements.txt (line 10)) (0.43.0)\n",
      "Requirement already satisfied: keras-preprocessing~=1.1.2 in /workspace/.pyenv_mirror/fakeroot/versions/3.8.18/lib/python3.8/site-packages (from tensorflow-cpu==2.6.0->-r /workspace/mildew-detector/requirements.txt (line 10)) (1.1.2)\n",
      "Requirement already satisfied: wrapt~=1.12.1 in /workspace/.pyenv_mirror/fakeroot/versions/3.8.18/lib/python3.8/site-packages (from tensorflow-cpu==2.6.0->-r /workspace/mildew-detector/requirements.txt (line 10)) (1.12.1)\n",
      "Requirement already satisfied: opt-einsum~=3.3.0 in /workspace/.pyenv_mirror/fakeroot/versions/3.8.18/lib/python3.8/site-packages (from tensorflow-cpu==2.6.0->-r /workspace/mildew-detector/requirements.txt (line 10)) (3.3.0)\n",
      "Requirement already satisfied: google-pasta~=0.2 in /workspace/.pyenv_mirror/fakeroot/versions/3.8.18/lib/python3.8/site-packages (from tensorflow-cpu==2.6.0->-r /workspace/mildew-detector/requirements.txt (line 10)) (0.2.0)\n",
      "Requirement already satisfied: flatbuffers~=1.12.0 in /workspace/.pyenv_mirror/fakeroot/versions/3.8.18/lib/python3.8/site-packages (from tensorflow-cpu==2.6.0->-r /workspace/mildew-detector/requirements.txt (line 10)) (1.12)\n",
      "Requirement already satisfied: tensorboard~=2.6 in /workspace/.pyenv_mirror/fakeroot/versions/3.8.18/lib/python3.8/site-packages (from tensorflow-cpu==2.6.0->-r /workspace/mildew-detector/requirements.txt (line 10)) (2.14.0)\n",
      "Requirement already satisfied: jinja2 in /workspace/.pyenv_mirror/fakeroot/versions/3.8.18/lib/python3.8/site-packages (from altair<5->-r /workspace/mildew-detector/requirements.txt (line 13)) (3.1.3)\n",
      "Requirement already satisfied: toolz in /workspace/.pyenv_mirror/fakeroot/versions/3.8.18/lib/python3.8/site-packages (from altair<5->-r /workspace/mildew-detector/requirements.txt (line 13)) (0.12.1)\n",
      "Requirement already satisfied: jsonschema>=3.0 in /workspace/.pyenv_mirror/fakeroot/versions/3.8.18/lib/python3.8/site-packages (from altair<5->-r /workspace/mildew-detector/requirements.txt (line 13)) (4.21.1)\n",
      "Requirement already satisfied: entrypoints in /workspace/.pyenv_mirror/fakeroot/versions/3.8.18/lib/python3.8/site-packages (from altair<5->-r /workspace/mildew-detector/requirements.txt (line 13)) (0.4)\n",
      "Requirement already satisfied: referencing>=0.28.4 in /workspace/.pyenv_mirror/fakeroot/versions/3.8.18/lib/python3.8/site-packages (from jsonschema>=3.0->altair<5->-r /workspace/mildew-detector/requirements.txt (line 13)) (0.34.0)\n",
      "Requirement already satisfied: pkgutil-resolve-name>=1.3.10 in /workspace/.pyenv_mirror/fakeroot/versions/3.8.18/lib/python3.8/site-packages (from jsonschema>=3.0->altair<5->-r /workspace/mildew-detector/requirements.txt (line 13)) (1.3.10)\n",
      "Requirement already satisfied: rpds-py>=0.7.1 in /workspace/.pyenv_mirror/fakeroot/versions/3.8.18/lib/python3.8/site-packages (from jsonschema>=3.0->altair<5->-r /workspace/mildew-detector/requirements.txt (line 13)) (0.18.0)\n",
      "Requirement already satisfied: jsonschema-specifications>=2023.03.6 in /workspace/.pyenv_mirror/fakeroot/versions/3.8.18/lib/python3.8/site-packages (from jsonschema>=3.0->altair<5->-r /workspace/mildew-detector/requirements.txt (line 13)) (2023.12.1)\n",
      "Requirement already satisfied: importlib-resources>=1.4.0 in /workspace/.pyenv_mirror/fakeroot/versions/3.8.18/lib/python3.8/site-packages (from jsonschema>=3.0->altair<5->-r /workspace/mildew-detector/requirements.txt (line 13)) (6.4.0)\n",
      "Requirement already satisfied: MarkupSafe>=2.0 in /workspace/.pyenv_mirror/fakeroot/versions/3.8.18/lib/python3.8/site-packages (from jinja2->altair<5->-r /workspace/mildew-detector/requirements.txt (line 13)) (2.1.5)\n",
      "Requirement already satisfied: setuptools>=41.0.0 in /workspace/.pyenv_mirror/fakeroot/versions/3.8.18/lib/python3.8/site-packages (from tensorboard~=2.6->tensorflow-cpu==2.6.0->-r /workspace/mildew-detector/requirements.txt (line 10)) (56.0.0)\n",
      "Requirement already satisfied: google-auth-oauthlib<1.1,>=0.5 in /workspace/.pyenv_mirror/fakeroot/versions/3.8.18/lib/python3.8/site-packages (from tensorboard~=2.6->tensorflow-cpu==2.6.0->-r /workspace/mildew-detector/requirements.txt (line 10)) (1.0.0)\n",
      "Requirement already satisfied: tensorboard-data-server<0.8.0,>=0.7.0 in /workspace/.pyenv_mirror/fakeroot/versions/3.8.18/lib/python3.8/site-packages (from tensorboard~=2.6->tensorflow-cpu==2.6.0->-r /workspace/mildew-detector/requirements.txt (line 10)) (0.7.2)\n",
      "Requirement already satisfied: markdown>=2.6.8 in /workspace/.pyenv_mirror/fakeroot/versions/3.8.18/lib/python3.8/site-packages (from tensorboard~=2.6->tensorflow-cpu==2.6.0->-r /workspace/mildew-detector/requirements.txt (line 10)) (3.6)\n",
      "Requirement already satisfied: werkzeug>=1.0.1 in /workspace/.pyenv_mirror/fakeroot/versions/3.8.18/lib/python3.8/site-packages (from tensorboard~=2.6->tensorflow-cpu==2.6.0->-r /workspace/mildew-detector/requirements.txt (line 10)) (3.0.1)\n",
      "Requirement already satisfied: google-auth<3,>=1.6.3 in /workspace/.pyenv_mirror/fakeroot/versions/3.8.18/lib/python3.8/site-packages (from tensorboard~=2.6->tensorflow-cpu==2.6.0->-r /workspace/mildew-detector/requirements.txt (line 10)) (2.29.0)\n",
      "Requirement already satisfied: urllib3<3,>=1.21.1 in /workspace/.pyenv_mirror/fakeroot/versions/3.8.18/lib/python3.8/site-packages (from requests->streamlit==0.85.0->-r /workspace/mildew-detector/requirements.txt (line 7)) (2.2.1)\n",
      "Requirement already satisfied: charset-normalizer<4,>=2 in /workspace/.pyenv_mirror/fakeroot/versions/3.8.18/lib/python3.8/site-packages (from requests->streamlit==0.85.0->-r /workspace/mildew-detector/requirements.txt (line 7)) (3.3.2)\n",
      "Requirement already satisfied: idna<4,>=2.5 in /workspace/.pyenv_mirror/fakeroot/versions/3.8.18/lib/python3.8/site-packages (from requests->streamlit==0.85.0->-r /workspace/mildew-detector/requirements.txt (line 7)) (3.6)\n",
      "Requirement already satisfied: gitdb<5,>=4.0.1 in /workspace/.pyenv_mirror/fakeroot/versions/3.8.18/lib/python3.8/site-packages (from gitpython->streamlit==0.85.0->-r /workspace/mildew-detector/requirements.txt (line 7)) (4.0.11)\n",
      "Requirement already satisfied: backports.zoneinfo in /workspace/.pyenv_mirror/fakeroot/versions/3.8.18/lib/python3.8/site-packages (from tzlocal->streamlit==0.85.0->-r /workspace/mildew-detector/requirements.txt (line 7)) (0.2.1)\n",
      "Requirement already satisfied: smmap<6,>=3.0.1 in /workspace/.pyenv_mirror/fakeroot/versions/3.8.18/lib/python3.8/site-packages (from gitdb<5,>=4.0.1->gitpython->streamlit==0.85.0->-r /workspace/mildew-detector/requirements.txt (line 7)) (5.0.1)\n",
      "Requirement already satisfied: rsa<5,>=3.1.4 in /workspace/.pyenv_mirror/fakeroot/versions/3.8.18/lib/python3.8/site-packages (from google-auth<3,>=1.6.3->tensorboard~=2.6->tensorflow-cpu==2.6.0->-r /workspace/mildew-detector/requirements.txt (line 10)) (4.9)\n",
      "Requirement already satisfied: pyasn1-modules>=0.2.1 in /workspace/.pyenv_mirror/fakeroot/versions/3.8.18/lib/python3.8/site-packages (from google-auth<3,>=1.6.3->tensorboard~=2.6->tensorflow-cpu==2.6.0->-r /workspace/mildew-detector/requirements.txt (line 10)) (0.4.0)\n",
      "Requirement already satisfied: requests-oauthlib>=0.7.0 in /workspace/.pyenv_mirror/fakeroot/versions/3.8.18/lib/python3.8/site-packages (from google-auth-oauthlib<1.1,>=0.5->tensorboard~=2.6->tensorflow-cpu==2.6.0->-r /workspace/mildew-detector/requirements.txt (line 10)) (2.0.0)\n",
      "Requirement already satisfied: zipp>=3.1.0 in /workspace/.pyenv_mirror/fakeroot/versions/3.8.18/lib/python3.8/site-packages (from importlib-resources>=1.4.0->jsonschema>=3.0->altair<5->-r /workspace/mildew-detector/requirements.txt (line 13)) (3.18.1)\n",
      "Requirement already satisfied: importlib-metadata>=4.4 in /workspace/.pyenv_mirror/fakeroot/versions/3.8.18/lib/python3.8/site-packages (from markdown>=2.6.8->tensorboard~=2.6->tensorflow-cpu==2.6.0->-r /workspace/mildew-detector/requirements.txt (line 10)) (7.1.0)\n",
      "Requirement already satisfied: pyasn1<0.7.0,>=0.4.6 in /workspace/.pyenv_mirror/fakeroot/versions/3.8.18/lib/python3.8/site-packages (from pyasn1-modules>=0.2.1->google-auth<3,>=1.6.3->tensorboard~=2.6->tensorflow-cpu==2.6.0->-r /workspace/mildew-detector/requirements.txt (line 10)) (0.6.0)\n",
      "Requirement already satisfied: oauthlib>=3.0.0 in /workspace/.pyenv_mirror/fakeroot/versions/3.8.18/lib/python3.8/site-packages (from requests-oauthlib>=0.7.0->google-auth-oauthlib<1.1,>=0.5->tensorboard~=2.6->tensorflow-cpu==2.6.0->-r /workspace/mildew-detector/requirements.txt (line 10)) (3.2.2)\n",
      "\n",
      "\u001b[1m[\u001b[0m\u001b[34;49mnotice\u001b[0m\u001b[1;39;49m]\u001b[0m\u001b[39;49m A new release of pip is available: \u001b[0m\u001b[31;49m23.0.1\u001b[0m\u001b[39;49m -> \u001b[0m\u001b[32;49m24.0\u001b[0m\n",
      "\u001b[1m[\u001b[0m\u001b[34;49mnotice\u001b[0m\u001b[1;39;49m]\u001b[0m\u001b[39;49m To update, run: \u001b[0m\u001b[32;49mpython3.8 -m pip install --upgrade pip\u001b[0m\n"
     ]
    }
   ],
   "source": [
    "! pip install -r /workspace/mildew-detector/requirements.txt"
   ]
  },
  {
   "cell_type": "markdown",
   "metadata": {},
   "source": [
    "# Change working directory"
   ]
  },
  {
   "cell_type": "markdown",
   "metadata": {},
   "source": [
    "* We are assuming you will store the notebooks in a subfolder, therefore when running the notebook in the editor, you will need to change the working directory"
   ]
  },
  {
   "cell_type": "markdown",
   "metadata": {},
   "source": [
    "We need to change the working directory from its current folder to its parent folder\n",
    "* We access the current directory with os.getcwd()"
   ]
  },
  {
   "cell_type": "code",
   "execution_count": 3,
   "metadata": {},
   "outputs": [],
   "source": [
    "import numpy \n",
    "import os "
   ]
  },
  {
   "cell_type": "code",
   "execution_count": 4,
   "metadata": {},
   "outputs": [
    {
     "data": {
      "text/plain": [
       "'/workspace/mildew-detector/jupyter_notebooks'"
      ]
     },
     "execution_count": 4,
     "metadata": {},
     "output_type": "execute_result"
    }
   ],
   "source": [
    "current_dir = os.getcwd()\n",
    "current_dir"
   ]
  },
  {
   "cell_type": "markdown",
   "metadata": {},
   "source": [
    "We want to make the parent of the current directory the new current directory\n",
    "* os.path.dirname() gets the parent directory\n",
    "* os.chir() defines the new current directory"
   ]
  },
  {
   "cell_type": "code",
   "execution_count": 5,
   "metadata": {},
   "outputs": [
    {
     "name": "stdout",
     "output_type": "stream",
     "text": [
      "You set a new current directory\n"
     ]
    }
   ],
   "source": [
    "os.chdir(os.path.dirname(current_dir))\n",
    "print(\"You set a new current directory\")"
   ]
  },
  {
   "cell_type": "markdown",
   "metadata": {},
   "source": [
    "Confirm the new current directory"
   ]
  },
  {
   "cell_type": "code",
   "execution_count": 6,
   "metadata": {},
   "outputs": [
    {
     "data": {
      "text/plain": [
       "'/workspace/mildew-detector'"
      ]
     },
     "execution_count": 6,
     "metadata": {},
     "output_type": "execute_result"
    }
   ],
   "source": [
    "current_dir = os.getcwd()\n",
    "current_dir"
   ]
  },
  {
   "cell_type": "markdown",
   "metadata": {},
   "source": [
    "# Setup Kaggle"
   ]
  },
  {
   "cell_type": "markdown",
   "metadata": {},
   "source": [
    "Install Kaggle"
   ]
  },
  {
   "cell_type": "code",
   "execution_count": 7,
   "metadata": {},
   "outputs": [
    {
     "name": "stdout",
     "output_type": "stream",
     "text": [
      "Requirement already satisfied: kaggle==1.5.12 in /home/gitpod/.pyenv/versions/3.8.18/lib/python3.8/site-packages (1.5.12)\n",
      "Requirement already satisfied: python-slugify in /home/gitpod/.pyenv/versions/3.8.18/lib/python3.8/site-packages (from kaggle==1.5.12) (8.0.4)\n",
      "Requirement already satisfied: urllib3 in /home/gitpod/.pyenv/versions/3.8.18/lib/python3.8/site-packages (from kaggle==1.5.12) (2.2.1)\n",
      "Requirement already satisfied: certifi in /home/gitpod/.pyenv/versions/3.8.18/lib/python3.8/site-packages (from kaggle==1.5.12) (2024.2.2)\n",
      "Requirement already satisfied: python-dateutil in /home/gitpod/.pyenv/versions/3.8.18/lib/python3.8/site-packages (from kaggle==1.5.12) (2.9.0.post0)\n",
      "Requirement already satisfied: requests in /home/gitpod/.pyenv/versions/3.8.18/lib/python3.8/site-packages (from kaggle==1.5.12) (2.31.0)\n",
      "Requirement already satisfied: six>=1.10 in /home/gitpod/.pyenv/versions/3.8.18/lib/python3.8/site-packages (from kaggle==1.5.12) (1.15.0)\n",
      "Requirement already satisfied: tqdm in /home/gitpod/.pyenv/versions/3.8.18/lib/python3.8/site-packages (from kaggle==1.5.12) (4.66.2)\n",
      "Requirement already satisfied: text-unidecode>=1.3 in /home/gitpod/.pyenv/versions/3.8.18/lib/python3.8/site-packages (from python-slugify->kaggle==1.5.12) (1.3)\n",
      "Requirement already satisfied: charset-normalizer<4,>=2 in /home/gitpod/.pyenv/versions/3.8.18/lib/python3.8/site-packages (from requests->kaggle==1.5.12) (3.3.2)\n",
      "Requirement already satisfied: idna<4,>=2.5 in /home/gitpod/.pyenv/versions/3.8.18/lib/python3.8/site-packages (from requests->kaggle==1.5.12) (3.6)\n",
      "\n",
      "\u001b[1m[\u001b[0m\u001b[34;49mnotice\u001b[0m\u001b[1;39;49m]\u001b[0m\u001b[39;49m A new release of pip is available: \u001b[0m\u001b[31;49m23.0.1\u001b[0m\u001b[39;49m -> \u001b[0m\u001b[32;49m24.0\u001b[0m\n",
      "\u001b[1m[\u001b[0m\u001b[34;49mnotice\u001b[0m\u001b[1;39;49m]\u001b[0m\u001b[39;49m To update, run: \u001b[0m\u001b[32;49mpip install --upgrade pip\u001b[0m\n",
      "Note: you may need to restart the kernel to use updated packages.\n"
     ]
    }
   ],
   "source": [
    "%pip install kaggle==1.5.12"
   ]
  },
  {
   "cell_type": "markdown",
   "metadata": {},
   "source": [
    "Setup Kaggle details"
   ]
  },
  {
   "cell_type": "code",
   "execution_count": 8,
   "metadata": {},
   "outputs": [],
   "source": [
    "# Kaggle json file and directory setup\n",
    "os.environ['KAGGLE_CONFIG_DIR'] = os.getcwd()\n",
    "! chmod 600 kaggle.json"
   ]
  },
  {
   "cell_type": "code",
   "execution_count": 9,
   "metadata": {},
   "outputs": [
    {
     "name": "stdout",
     "output_type": "stream",
     "text": [
      "Downloading cherry-leaves.zip to inputs/cherryleaves_dataset\n",
      " 95%|███████████████████████████████████▉  | 52.0M/55.0M [00:02<00:00, 34.4MB/s]\n",
      "100%|██████████████████████████████████████| 55.0M/55.0M [00:02<00:00, 24.4MB/s]\n"
     ]
    }
   ],
   "source": [
    "KaggleDatasetPath = \"codeinstitute/cherry-leaves\"\n",
    "DestinationFolder = \"inputs/cherryleaves_dataset\"   \n",
    "! kaggle datasets download -d {KaggleDatasetPath} -p {DestinationFolder}"
   ]
  },
  {
   "cell_type": "markdown",
   "metadata": {},
   "source": [
    "Unzip the dowloaded file and delete the zip file"
   ]
  },
  {
   "cell_type": "code",
   "execution_count": 10,
   "metadata": {},
   "outputs": [],
   "source": [
    "import zipfile\n",
    "with zipfile.ZipFile(DestinationFolder + '/cherry-leaves.zip', 'r') as zip_ref:\n",
    "    zip_ref.extractall(DestinationFolder)\n",
    "\n",
    "os.remove(DestinationFolder + '/cherry-leaves.zip')"
   ]
  },
  {
   "cell_type": "markdown",
   "metadata": {},
   "source": [
    "# Data Preparation"
   ]
  },
  {
   "cell_type": "markdown",
   "metadata": {},
   "source": [
    "## Data Cleaning"
   ]
  },
  {
   "cell_type": "markdown",
   "metadata": {},
   "source": [
    "Check and remove all non-image files"
   ]
  },
  {
   "cell_type": "code",
   "execution_count": 11,
   "metadata": {},
   "outputs": [],
   "source": [
    "def remove_non_image_file(my_data_dir):\n",
    "    image_extension = ('.png', '.jpg', '.jpeg')\n",
    "    folders = os.listdir(my_data_dir)\n",
    "    for folder in folders:\n",
    "        files = os.listdir(my_data_dir + '/' + folder)\n",
    "        # print(files)\n",
    "        i = []\n",
    "        j = []\n",
    "        for given_file in files:\n",
    "            if not given_file.lower().endswith(image_extension):\n",
    "                file_location = my_data_dir + '/' + folder + '/' + given_file\n",
    "                os.remove(file_location)  # remove non image file\n",
    "                i.append(1)\n",
    "            else:\n",
    "                j.append(1)\n",
    "                pass\n",
    "        print(f\"Folder: {folder} - has image file\", len(j))\n",
    "        print(f\"Folder: {folder} - has non-image file\", len(i))"
   ]
  },
  {
   "cell_type": "code",
   "execution_count": 12,
   "metadata": {},
   "outputs": [
    {
     "name": "stdout",
     "output_type": "stream",
     "text": [
      "Folder: healthy - has image file 2104\n",
      "Folder: healthy - has non-image file 0\n",
      "Folder: powdery_mildew - has image file 2104\n",
      "Folder: powdery_mildew - has non-image file 0\n"
     ]
    }
   ],
   "source": [
    "remove_non_image_file(my_data_dir='inputs/cherryleaves_dataset/cherry-leaves')"
   ]
  },
  {
   "cell_type": "markdown",
   "metadata": {},
   "source": [
    "## Split train validation test set"
   ]
  },
  {
   "cell_type": "code",
   "execution_count": null,
   "metadata": {},
   "outputs": [],
   "source": [
    "import os\n",
    "import shutil\n",
    "import random\n",
    "import joblib\n",
    "\n",
    "my_data_dir=\"inputs/cherry-leaves_dataset/cherry-leaves\"\n",
    "\n",
    "def split_train_validation_test_images(my_data_dir, train_set_ratio, validation_set_ratio, test_set_ratio):\n",
    "  \n",
    "  if train_set_ratio + validation_set_ratio + test_set_ratio != 1.0:\n",
    "    print(\"train_set_ratio + validation_set_ratio + test_set_ratio should sum 1.0\")\n",
    "    return\n",
    "\n",
    "  # gets classes labels\n",
    "  labels = os.listdir(my_data_dir) # it should get only the folder name\n",
    "  if 'test' in labels:\n",
    "    pass\n",
    "  else: \n",
    "    # create train, test folders with classess labels sub-folder\n",
    "    for folder in ['train','validation','test']:\n",
    "      for label in labels:\n",
    "        os.makedirs(name=my_data_dir+ '/' + folder + '/' + label)\n",
    "\n",
    "    for label in labels:\n",
    "\n",
    "      files = os.listdir(my_data_dir + '/' + label)\n",
    "      random.shuffle(files)\n",
    "\n",
    "      train_set_files_qty = int(len(files) * train_set_ratio)\n",
    "      validation_set_files_qty = int(len(files) * validation_set_ratio)\n",
    "\n",
    "      count = 1\n",
    "      for file_name in files:\n",
    "        if count <= train_set_files_qty:\n",
    "          # move given file to train set\n",
    "          shutil.move(my_data_dir + '/' + label + '/' + file_name,\n",
    "                      my_data_dir + '/train/' + label + '/' + file_name)\n",
    "          \n",
    "\n",
    "        elif count <= (train_set_files_qty + validation_set_files_qty ):\n",
    "          # move given file to validation set\n",
    "          shutil.move(my_data_dir + '/' + label + '/' + file_name,\n",
    "                      my_data_dir + '/validation/' + label + '/' + file_name)\n",
    "\n",
    "        else:\n",
    "          # move given file to test set\n",
    "          shutil.move(my_data_dir + '/' + label + '/' + file_name,\n",
    "                  my_data_dir + '/test/' +label + '/'+ file_name)\n",
    "          \n",
    "        count += 1\n",
    "\n",
    "      os.rmdir(my_data_dir + '/' + label)"
   ]
  },
  {
   "cell_type": "markdown",
   "metadata": {},
   "source": [
    "## Split"
   ]
  },
  {
   "cell_type": "markdown",
   "metadata": {},
   "source": [
    "* A training set (70%)\n",
    "* A validation set (10%)\n",
    "* A test set (20%)"
   ]
  },
  {
   "cell_type": "code",
   "execution_count": null,
   "metadata": {},
   "outputs": [],
   "source": [
    "split_train_validation_test_images(my_data_dir = f\"inputs/cherryleaves_dataset/cherry-leaves\",\n",
    "                        train_set_ratio = 0.7,\n",
    "                        validation_set_ratio = 0.1,\n",
    "                        test_set_ratio = 0.2\n",
    "                        ) "
   ]
  }
 ],
 "metadata": {
  "kernelspec": {
   "display_name": "Python 3",
   "language": "python",
   "name": "python3"
  },
  "language_info": {
   "codemirror_mode": {
    "name": "ipython",
    "version": 3
   },
   "file_extension": ".py",
   "mimetype": "text/x-python",
   "name": "python",
   "nbconvert_exporter": "python",
   "pygments_lexer": "ipython3",
   "version": "3.8.18"
  }
 },
 "nbformat": 4,
 "nbformat_minor": 2
}
